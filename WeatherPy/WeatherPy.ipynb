{
 "cells": [
  {
   "cell_type": "markdown",
   "metadata": {},
   "source": [
    "# WeatherPy\n",
    "----\n",
    "\n",
    "#### Note\n",
    "* Instructions have been included for each segment. You do not have to follow them exactly, but they are included to help you think through the steps."
   ]
  },
  {
   "cell_type": "code",
   "execution_count": 33,
   "metadata": {
    "scrolled": false
   },
   "outputs": [],
   "source": [
    "# Dependencies and Setup\n",
    "# Dependencies and Setup\n",
    "import matplotlib.pyplot as plt\n",
    "import matplotlib.cm as cm\n",
    "import pandas as pd\n",
    "import numpy as np\n",
    "import requests\n",
    "import time\n",
    "from scipy.stats import linregress\n",
    "\n",
    "# Import API key\n",
    "from config import weather_api_key\n",
    "from config import g_key\n",
    "\n",
    "# Incorporated citipy to determine city based on latitude and longitude\n",
    "from citipy import citipy\n",
    "\n",
    "# Output File (CSV)\n",
    "output_data_file = \"output_data/my_cities.csv\"\n",
    "\n",
    "# Range of latitudes and longitudes\n",
    "lat_range = (-90, 90)\n",
    "lng_range = (-180, 180)"
   ]
  },
  {
   "cell_type": "markdown",
   "metadata": {},
   "source": [
    "## Generate Cities List"
   ]
  },
  {
   "cell_type": "code",
   "execution_count": 2,
   "metadata": {
    "scrolled": true
   },
   "outputs": [
    {
     "data": {
      "text/plain": [
       "627"
      ]
     },
     "execution_count": 2,
     "metadata": {},
     "output_type": "execute_result"
    }
   ],
   "source": [
    "# List for holding lat_lngs and cities\n",
    "lat_lngs = []\n",
    "cities = []\n",
    "\n",
    "# Create a set of random lat and lng combinations\n",
    "lats = np.random.uniform(lat_range[0], lat_range[1], size=1500)\n",
    "lngs = np.random.uniform(lng_range[0], lng_range[1], size=1500)\n",
    "lat_lngs = zip(lats, lngs)\n",
    "\n",
    "# Identify nearest city for each lat, lng combination\n",
    "for lat_lng in lat_lngs:\n",
    "    city = citipy.nearest_city(lat_lng[0], lat_lng[1]).city_name\n",
    "    \n",
    "    # If the city is unique, then add it to a our cities list\n",
    "    if city not in cities:\n",
    "        cities.append(city)\n",
    "\n",
    "# Print the city count to confirm sufficient count\n",
    "len(cities)"
   ]
  },
  {
   "cell_type": "markdown",
   "metadata": {},
   "source": [
    "### Perform API Calls\n",
    "* Perform a weather check on each city using a series of successive API calls.\n",
    "* Include a print log of each city as it'sbeing processed (with the city number and city name).\n"
   ]
  },
  {
   "cell_type": "code",
   "execution_count": 3,
   "metadata": {
    "scrolled": true
   },
   "outputs": [],
   "source": [
    "url = \"http://api.openweathermap.org/data/2.5/weather?\"\n",
    "query_url = f\"{url}appid={weather_api_key}&q=\""
   ]
  },
  {
   "cell_type": "code",
   "execution_count": 4,
   "metadata": {
    "scrolled": true
   },
   "outputs": [],
   "source": [
    "weather_data = pd.DataFrame({\"City\": cities})"
   ]
  },
  {
   "cell_type": "code",
   "execution_count": 5,
   "metadata": {
    "scrolled": true
   },
   "outputs": [],
   "source": [
    "weather_data['Latitude'] = \"\"\n",
    "weather_data['Longitude'] = \"\"\n",
    "weather_data['Max Temperature'] = \"\"\n",
    "weather_data['Humidity'] = \"\"\n",
    "weather_data['Cloudiness'] = \"\"\n",
    "weather_data['Wind Speed'] = \"\"\n",
    "weather_data['Country'] = \"\"\n",
    "weather_data['Date'] = \"\""
   ]
  },
  {
   "cell_type": "code",
   "execution_count": 6,
   "metadata": {
    "scrolled": true
   },
   "outputs": [
    {
     "name": "stdout",
     "output_type": "stream",
     "text": [
      "Beginning Data Retrieval\n",
      "-----------------------------\n",
      "Processing Record 1 of Set 1 | norman wells\n",
      "Processing Record 2 of Set 1 | ushuaia\n",
      "Processing Record 3 of Set 1 | haines junction\n",
      "Processing Record 4 of Set 1 | rafaela\n",
      "Processing Record 5 of Set 1 | eureka\n",
      "Processing Record 6 of Set 1 | tuktoyaktuk\n",
      "Processing Record 7 of Set 1 | itarema\n",
      "Processing Record 8 of Set 1 | leningradskiy\n",
      "Processing Record 9 of Set 1 | pangnirtung\n",
      "Processing Record 10 of Set 1 | hobart\n",
      "Processing Record 11 of Set 1 | kuching\n",
      "Processing Record 12 of Set 1 | suez\n",
      "Processing Record 13 of Set 1 | busselton\n",
      "Processing Record 14 of Set 1 | vaini\n",
      "Processing Record 15 of Set 1 | punta arenas\n",
      "Processing Record 16 of Set 1 | illoqqortoormiut\n",
      "City not found. Skipping....\n",
      "Processing Record 17 of Set 1 | dalbandin\n",
      "Processing Record 18 of Set 1 | bluff\n",
      "Processing Record 19 of Set 1 | bubaque\n",
      "Processing Record 20 of Set 1 | birjand\n",
      "Processing Record 21 of Set 1 | rikitea\n",
      "Processing Record 22 of Set 1 | mataura\n",
      "Processing Record 23 of Set 1 | mocuba\n",
      "Processing Record 24 of Set 1 | buchanan\n",
      "Processing Record 25 of Set 1 | thompson\n",
      "Processing Record 26 of Set 1 | puerto leguizamo\n",
      "Processing Record 27 of Set 1 | new norfolk\n",
      "Processing Record 28 of Set 1 | amapa\n",
      "Processing Record 29 of Set 1 | hithadhoo\n",
      "Processing Record 30 of Set 1 | albany\n",
      "Processing Record 31 of Set 1 | sao paulo de olivenca\n",
      "Processing Record 32 of Set 1 | buin\n",
      "Processing Record 33 of Set 1 | geraldton\n",
      "Processing Record 34 of Set 1 | bengkulu\n",
      "Processing Record 35 of Set 1 | talcahuano\n",
      "Processing Record 36 of Set 1 | kapaa\n",
      "Processing Record 37 of Set 1 | amderma\n",
      "City not found. Skipping....\n",
      "Processing Record 38 of Set 1 | tumannyy\n",
      "City not found. Skipping....\n",
      "Processing Record 39 of Set 1 | port elizabeth\n",
      "Processing Record 40 of Set 1 | tasiilaq\n",
      "Processing Record 41 of Set 1 | tsihombe\n",
      "City not found. Skipping....\n",
      "Processing Record 42 of Set 1 | toktogul\n",
      "Processing Record 43 of Set 1 | georgetown\n",
      "Processing Record 44 of Set 1 | midleton\n",
      "Processing Record 45 of Set 1 | port alfred\n",
      "Processing Record 46 of Set 1 | acarau\n",
      "Processing Record 47 of Set 1 | nuqui\n",
      "Processing Record 48 of Set 1 | kidal\n",
      "Processing Record 49 of Set 1 | taolanaro\n",
      "City not found. Skipping....\n",
      "Processing Record 50 of Set 1 | kholodnyy\n",
      "Processing Record 51 of Set 1 | lavrentiya\n",
      "Processing Record 52 of Set 1 | mar del plata\n",
      "Processing Record 53 of Set 1 | san quintin\n",
      "Processing Record 54 of Set 1 | ewa beach\n",
      "Processing Record 55 of Set 1 | chifeng\n",
      "Processing Record 56 of Set 1 | wyoming\n",
      "Processing Record 57 of Set 1 | atuona\n",
      "Processing Record 58 of Set 1 | joppatowne\n",
      "Processing Record 59 of Set 1 | nikolskoye\n",
      "Processing Record 60 of Set 1 | estelle\n",
      "Processing Record 61 of Set 1 | dikson\n",
      "Processing Record 62 of Set 1 | labuhan\n",
      "Processing Record 63 of Set 1 | yellowknife\n",
      "Processing Record 64 of Set 1 | qaanaaq\n",
      "Processing Record 65 of Set 1 | wuwei\n",
      "Processing Record 66 of Set 1 | sao filipe\n",
      "Processing Record 67 of Set 1 | chokurdakh\n",
      "Processing Record 68 of Set 1 | upernavik\n",
      "Processing Record 69 of Set 1 | esperance\n",
      "Processing Record 70 of Set 1 | isabela\n",
      "Processing Record 71 of Set 1 | saleaula\n",
      "City not found. Skipping....\n",
      "Processing Record 72 of Set 1 | honiara\n",
      "Processing Record 73 of Set 1 | flin flon\n",
      "Processing Record 74 of Set 1 | champerico\n",
      "Processing Record 75 of Set 1 | castro\n",
      "Processing Record 76 of Set 1 | vostok\n",
      "Processing Record 77 of Set 1 | ancud\n",
      "Processing Record 78 of Set 1 | huambo\n",
      "Processing Record 79 of Set 1 | provideniya\n",
      "Processing Record 80 of Set 1 | belushya guba\n",
      "City not found. Skipping....\n",
      "Processing Record 81 of Set 1 | taltal\n",
      "Processing Record 82 of Set 1 | barentsburg\n",
      "City not found. Skipping....\n",
      "Processing Record 83 of Set 1 | asyut\n",
      "Processing Record 84 of Set 1 | barrow\n",
      "Processing Record 85 of Set 1 | victoria\n",
      "Processing Record 86 of Set 1 | upata\n",
      "Processing Record 87 of Set 1 | roma\n",
      "Processing Record 88 of Set 1 | alofi\n",
      "Processing Record 89 of Set 1 | svetlyy\n",
      "Processing Record 90 of Set 1 | flinders\n",
      "Processing Record 91 of Set 1 | hermanus\n",
      "Processing Record 92 of Set 1 | antalaha\n",
      "Processing Record 93 of Set 1 | chagda\n",
      "City not found. Skipping....\n",
      "Processing Record 94 of Set 1 | terney\n",
      "Processing Record 95 of Set 1 | portalegre\n",
      "Processing Record 96 of Set 1 | berlevag\n",
      "Processing Record 97 of Set 1 | maridi\n",
      "Processing Record 98 of Set 1 | kolokani\n",
      "Processing Record 99 of Set 1 | kahului\n",
      "Processing Record 100 of Set 1 | kaitangata\n",
      "Processing Record 101 of Set 1 | gazanjyk\n",
      "Processing Record 102 of Set 1 | ilulissat\n",
      "Processing Record 103 of Set 1 | camopi\n",
      "Processing Record 104 of Set 1 | pevek\n",
      "Processing Record 105 of Set 1 | ribeira grande\n",
      "Processing Record 106 of Set 1 | staryy nadym\n",
      "Processing Record 107 of Set 1 | avarua\n",
      "Processing Record 108 of Set 1 | menongue\n",
      "Processing Record 109 of Set 1 | kupang\n",
      "Processing Record 110 of Set 1 | hurghada\n",
      "Processing Record 111 of Set 1 | bambous virieux\n",
      "Processing Record 112 of Set 1 | lebu\n",
      "Processing Record 113 of Set 1 | grand gaube\n",
      "Processing Record 114 of Set 1 | tarakan\n",
      "Processing Record 115 of Set 1 | east london\n",
      "Processing Record 116 of Set 1 | khatanga\n",
      "Processing Record 117 of Set 1 | alice springs\n",
      "Processing Record 118 of Set 1 | rawson\n",
      "Processing Record 119 of Set 1 | altar\n",
      "Processing Record 120 of Set 1 | mayma\n",
      "Processing Record 121 of Set 1 | hilo\n",
      "Processing Record 122 of Set 1 | verkhoyansk\n",
      "Processing Record 123 of Set 1 | lazaro cardenas\n",
      "Processing Record 124 of Set 1 | potsdam\n",
      "Processing Record 125 of Set 1 | ambanja\n",
      "Processing Record 126 of Set 1 | garowe\n",
      "Processing Record 127 of Set 1 | aklavik\n",
      "Processing Record 128 of Set 1 | iqaluit\n",
      "Processing Record 129 of Set 1 | toliary\n",
      "City not found. Skipping....\n",
      "Processing Record 130 of Set 1 | jinchengjiang\n",
      "City not found. Skipping....\n",
      "Processing Record 131 of Set 1 | eirunepe\n",
      "Processing Record 132 of Set 1 | fountain hills\n",
      "Processing Record 133 of Set 1 | bira\n",
      "Processing Record 134 of Set 1 | san jeronimo\n",
      "Processing Record 135 of Set 1 | bendigo\n",
      "Processing Record 136 of Set 1 | savona\n",
      "Processing Record 137 of Set 1 | jamestown\n",
      "Processing Record 138 of Set 1 | pemangkat\n",
      "Processing Record 139 of Set 1 | narsaq\n",
      "Processing Record 140 of Set 1 | kitgum\n",
      "Processing Record 141 of Set 1 | tiksi\n",
      "Processing Record 142 of Set 1 | werkendam\n",
      "Processing Record 143 of Set 1 | matara\n",
      "Processing Record 144 of Set 1 | saint-philippe\n",
      "Processing Record 145 of Set 1 | denpasar\n",
      "Processing Record 146 of Set 1 | namatanai\n",
      "Processing Record 147 of Set 1 | van\n",
      "Processing Record 148 of Set 1 | san patricio\n",
      "Processing Record 149 of Set 1 | cabo san lucas\n",
      "Processing Record 150 of Set 1 | kapuskasing\n",
      "Processing Record 151 of Set 1 | bredasdorp\n",
      "Processing Record 152 of Set 1 | bay roberts\n",
      "Processing Record 153 of Set 1 | maceio\n",
      "Processing Record 154 of Set 1 | attawapiskat\n",
      "City not found. Skipping....\n",
      "Processing Record 155 of Set 1 | paamiut\n",
      "Processing Record 156 of Set 1 | bambanglipuro\n",
      "Processing Record 157 of Set 1 | mahibadhoo\n",
      "Processing Record 158 of Set 1 | klaksvik\n",
      "Processing Record 159 of Set 1 | kalmunai\n",
      "Processing Record 160 of Set 1 | kloulklubed\n",
      "Processing Record 161 of Set 1 | achisay\n",
      "City not found. Skipping....\n",
      "Processing Record 162 of Set 1 | ushtobe\n",
      "Processing Record 163 of Set 1 | puerto ayora\n",
      "Processing Record 164 of Set 1 | nizhneyansk\n",
      "City not found. Skipping....\n",
      "Processing Record 165 of Set 1 | puerto colombia\n",
      "Processing Record 166 of Set 1 | tres arroyos\n",
      "Processing Record 167 of Set 1 | necochea\n",
      "Processing Record 168 of Set 1 | codrington\n",
      "Processing Record 169 of Set 1 | oranjestad\n",
      "Processing Record 170 of Set 1 | ponta do sol\n",
      "Processing Record 171 of Set 1 | butaritari\n",
      "Processing Record 172 of Set 1 | biak\n",
      "Processing Record 173 of Set 1 | batagay\n",
      "Processing Record 174 of Set 1 | kavaratti\n",
      "Processing Record 175 of Set 1 | zhanakorgan\n",
      "Processing Record 176 of Set 1 | caucaia\n",
      "Processing Record 177 of Set 1 | rudbar\n",
      "Processing Record 178 of Set 1 | arraial do cabo\n",
      "Processing Record 179 of Set 1 | santa marta\n",
      "Processing Record 180 of Set 1 | hofn\n",
      "Processing Record 181 of Set 1 | marabba\n",
      "Processing Record 182 of Set 1 | gizo\n",
      "Processing Record 183 of Set 1 | bethel\n",
      "Processing Record 184 of Set 1 | peterhead\n",
      "Processing Record 185 of Set 1 | karaul\n",
      "City not found. Skipping....\n"
     ]
    },
    {
     "name": "stdout",
     "output_type": "stream",
     "text": [
      "Processing Record 186 of Set 1 | chapais\n",
      "Processing Record 187 of Set 1 | jega\n",
      "Processing Record 188 of Set 1 | cape town\n",
      "Processing Record 189 of Set 1 | hambantota\n",
      "Processing Record 190 of Set 1 | bolungarvik\n",
      "City not found. Skipping....\n",
      "Processing Record 191 of Set 1 | khartoum\n",
      "Processing Record 192 of Set 1 | santa isabel do rio negro\n",
      "Processing Record 193 of Set 1 | saint-pierre\n",
      "Processing Record 194 of Set 1 | saint-francois\n",
      "Processing Record 195 of Set 1 | shingu\n",
      "Processing Record 196 of Set 1 | carnarvon\n",
      "Processing Record 197 of Set 1 | bandarbeyla\n",
      "Processing Record 198 of Set 1 | mantua\n",
      "Processing Record 199 of Set 1 | galgani\n",
      "City not found. Skipping....\n",
      "Processing Record 200 of Set 1 | nabinagar\n",
      "Processing Record 201 of Set 1 | sentyabrskiy\n",
      "City not found. Skipping....\n",
      "Processing Record 202 of Set 1 | toila\n",
      "Processing Record 203 of Set 1 | bathsheba\n",
      "Processing Record 204 of Set 1 | sidi ali\n",
      "Processing Record 205 of Set 1 | yabrud\n",
      "Processing Record 206 of Set 1 | el carmen\n",
      "Processing Record 207 of Set 1 | novobiryusinskiy\n",
      "Processing Record 208 of Set 1 | port hardy\n",
      "Processing Record 209 of Set 1 | nuevitas\n",
      "Processing Record 210 of Set 1 | antofagasta\n",
      "Processing Record 211 of Set 1 | kivsharivka\n",
      "Processing Record 212 of Set 1 | san cristobal\n",
      "Processing Record 213 of Set 1 | turukhansk\n",
      "Processing Record 214 of Set 1 | mmabatho\n",
      "Processing Record 215 of Set 1 | mys shmidta\n",
      "City not found. Skipping....\n",
      "Processing Record 216 of Set 1 | ellisras\n",
      "Processing Record 217 of Set 1 | ballina\n",
      "Processing Record 218 of Set 1 | lolua\n",
      "City not found. Skipping....\n",
      "Processing Record 219 of Set 1 | guerrero negro\n",
      "Processing Record 220 of Set 1 | waingapu\n",
      "Processing Record 221 of Set 1 | sikasso\n",
      "Processing Record 222 of Set 1 | port said\n",
      "Processing Record 223 of Set 1 | inta\n",
      "Processing Record 224 of Set 1 | yanan\n",
      "City not found. Skipping....\n",
      "Processing Record 225 of Set 1 | adamas\n",
      "Processing Record 226 of Set 1 | luderitz\n",
      "Processing Record 227 of Set 1 | talnakh\n",
      "Processing Record 228 of Set 1 | pelileo\n",
      "Processing Record 229 of Set 1 | shimoda\n",
      "Processing Record 230 of Set 1 | pilar\n",
      "Processing Record 231 of Set 1 | chuy\n",
      "Processing Record 232 of Set 1 | kavieng\n",
      "Processing Record 233 of Set 1 | saskylakh\n",
      "Processing Record 234 of Set 1 | touros\n",
      "Processing Record 235 of Set 1 | vila franca do campo\n",
      "Processing Record 236 of Set 1 | airai\n",
      "Processing Record 237 of Set 1 | ponta delgada\n",
      "Processing Record 238 of Set 1 | blagoyevo\n",
      "Processing Record 239 of Set 1 | hatillo\n",
      "Processing Record 240 of Set 1 | saldanha\n",
      "Processing Record 241 of Set 1 | qaqortoq\n",
      "Processing Record 242 of Set 1 | punta alta\n",
      "Processing Record 243 of Set 1 | tuatapere\n",
      "Processing Record 244 of Set 1 | moose factory\n",
      "Processing Record 245 of Set 1 | grand river south east\n",
      "City not found. Skipping....\n",
      "Processing Record 246 of Set 1 | margate\n",
      "Processing Record 247 of Set 1 | avera\n",
      "Processing Record 248 of Set 1 | solovetskiy\n",
      "City not found. Skipping....\n",
      "Processing Record 249 of Set 1 | bilibino\n",
      "Processing Record 250 of Set 1 | cidreira\n",
      "Processing Record 251 of Set 1 | fare\n",
      "Processing Record 252 of Set 1 | xinzhou\n",
      "Processing Record 253 of Set 1 | karakendzha\n",
      "City not found. Skipping....\n",
      "Processing Record 254 of Set 1 | baruun-urt\n",
      "Processing Record 255 of Set 1 | warah\n",
      "Processing Record 256 of Set 1 | baykit\n",
      "Processing Record 257 of Set 1 | ningyang\n",
      "Processing Record 258 of Set 1 | faanui\n",
      "Processing Record 259 of Set 1 | ust-maya\n",
      "Processing Record 260 of Set 1 | clarksburg\n",
      "Processing Record 261 of Set 1 | chibuto\n",
      "Processing Record 262 of Set 1 | mandera\n",
      "Processing Record 263 of Set 1 | totness\n",
      "Processing Record 264 of Set 1 | baboua\n",
      "City not found. Skipping....\n",
      "Processing Record 265 of Set 1 | balikpapan\n",
      "Processing Record 266 of Set 1 | zogno\n",
      "Processing Record 267 of Set 1 | srednekolymsk\n",
      "Processing Record 268 of Set 1 | chipoka\n",
      "Processing Record 269 of Set 1 | dungarvan\n",
      "Processing Record 270 of Set 1 | grindavik\n",
      "Processing Record 271 of Set 1 | husavik\n",
      "Processing Record 272 of Set 1 | melnikovo\n",
      "Processing Record 273 of Set 1 | bo phloi\n",
      "Processing Record 274 of Set 1 | pinyug\n",
      "Processing Record 275 of Set 1 | zhuhai\n",
      "Processing Record 276 of Set 1 | washougal\n",
      "Processing Record 277 of Set 1 | fortuna\n",
      "Processing Record 278 of Set 1 | teahupoo\n",
      "Processing Record 279 of Set 1 | aykhal\n",
      "Processing Record 280 of Set 1 | harper\n",
      "Processing Record 281 of Set 1 | caravelas\n",
      "Processing Record 282 of Set 1 | ahipara\n",
      "Processing Record 283 of Set 1 | hasaki\n",
      "Processing Record 284 of Set 1 | barcelos\n",
      "Processing Record 285 of Set 1 | ha tinh\n",
      "Processing Record 286 of Set 1 | stephenville\n",
      "Processing Record 287 of Set 1 | lagoa\n",
      "Processing Record 288 of Set 1 | broome\n",
      "Processing Record 289 of Set 1 | kamenskoye\n",
      "City not found. Skipping....\n",
      "Processing Record 290 of Set 1 | akyab\n",
      "Processing Record 291 of Set 1 | katsuura\n",
      "Processing Record 292 of Set 1 | mehran\n",
      "Processing Record 293 of Set 1 | capitao poco\n",
      "Processing Record 294 of Set 1 | pitimbu\n",
      "Processing Record 295 of Set 1 | mufumbwe\n",
      "Processing Record 296 of Set 1 | namtsy\n",
      "Processing Record 297 of Set 1 | san pedro\n",
      "Processing Record 298 of Set 1 | kodiak\n",
      "Processing Record 299 of Set 1 | tuy hoa\n",
      "Processing Record 300 of Set 1 | ternate\n",
      "Processing Record 301 of Set 1 | beringovskiy\n",
      "Processing Record 302 of Set 1 | jalu\n",
      "Processing Record 303 of Set 1 | palabuhanratu\n",
      "City not found. Skipping....\n",
      "Processing Record 304 of Set 1 | san carlos de bariloche\n",
      "Processing Record 305 of Set 1 | maksi\n",
      "Processing Record 306 of Set 1 | vaitupu\n",
      "City not found. Skipping....\n",
      "Processing Record 307 of Set 1 | yulara\n",
      "Processing Record 308 of Set 1 | palmer\n",
      "Processing Record 309 of Set 1 | gus-zheleznyy\n",
      "Processing Record 310 of Set 1 | severo-kurilsk\n",
      "Processing Record 311 of Set 1 | bridlington\n",
      "Processing Record 312 of Set 1 | carutapera\n",
      "Processing Record 313 of Set 1 | sterlibashevo\n",
      "Processing Record 314 of Set 1 | red deer\n",
      "Processing Record 315 of Set 1 | algiers\n",
      "Processing Record 316 of Set 1 | tobermory\n",
      "Processing Record 317 of Set 1 | cabedelo\n",
      "Processing Record 318 of Set 1 | mabaruma\n",
      "Processing Record 319 of Set 1 | fairfield\n",
      "Processing Record 320 of Set 1 | campobasso\n",
      "Processing Record 321 of Set 1 | souillac\n",
      "Processing Record 322 of Set 1 | conceicao do araguaia\n",
      "Processing Record 323 of Set 1 | la primavera\n",
      "Processing Record 324 of Set 1 | rungata\n",
      "City not found. Skipping....\n",
      "Processing Record 325 of Set 1 | meyungs\n",
      "City not found. Skipping....\n",
      "Processing Record 326 of Set 1 | evensk\n",
      "Processing Record 327 of Set 1 | strandby\n",
      "Processing Record 328 of Set 1 | soderhamn\n",
      "Processing Record 329 of Set 1 | hukuntsi\n",
      "Processing Record 330 of Set 1 | vijapur\n",
      "Processing Record 331 of Set 1 | ciudad bolivar\n",
      "Processing Record 332 of Set 1 | vila velha\n",
      "Processing Record 333 of Set 1 | zanzibar\n",
      "Processing Record 334 of Set 1 | iralaya\n",
      "Processing Record 335 of Set 1 | woodward\n",
      "Processing Record 336 of Set 1 | lao cai\n",
      "Processing Record 337 of Set 1 | prince albert\n",
      "Processing Record 338 of Set 1 | maghama\n",
      "City not found. Skipping....\n",
      "Processing Record 339 of Set 1 | rovaniemi\n",
      "Processing Record 340 of Set 1 | marsh harbour\n",
      "Processing Record 341 of Set 1 | port hedland\n",
      "Processing Record 342 of Set 1 | sorvag\n",
      "City not found. Skipping....\n",
      "Processing Record 343 of Set 1 | nanortalik\n",
      "Processing Record 344 of Set 1 | rio tercero\n",
      "Processing Record 345 of Set 1 | sakaiminato\n",
      "Processing Record 346 of Set 1 | namibe\n",
      "Processing Record 347 of Set 1 | porbandar\n",
      "Processing Record 348 of Set 1 | samarai\n",
      "Processing Record 349 of Set 1 | ust-nera\n",
      "Processing Record 350 of Set 1 | mikumi\n",
      "Processing Record 351 of Set 1 | amnat charoen\n",
      "Processing Record 352 of Set 1 | mayor pablo lagerenza\n",
      "Processing Record 353 of Set 1 | olafsvik\n",
      "Processing Record 354 of Set 1 | vestmannaeyjar\n",
      "Processing Record 355 of Set 1 | okhotsk\n",
      "Processing Record 356 of Set 1 | zachary\n",
      "Processing Record 357 of Set 1 | havre-saint-pierre\n",
      "Processing Record 358 of Set 1 | koulamoutou\n",
      "Processing Record 359 of Set 1 | la ronge\n",
      "Processing Record 360 of Set 1 | ndungu\n",
      "Processing Record 361 of Set 1 | baniachang\n",
      "Processing Record 362 of Set 1 | englewood\n",
      "Processing Record 363 of Set 1 | banjar\n",
      "Processing Record 364 of Set 1 | bonavista\n",
      "Processing Record 365 of Set 1 | lentate sul seveso\n"
     ]
    },
    {
     "name": "stdout",
     "output_type": "stream",
     "text": [
      "Processing Record 366 of Set 1 | zhigansk\n",
      "Processing Record 367 of Set 1 | ouesso\n",
      "Processing Record 368 of Set 1 | west plains\n",
      "Processing Record 369 of Set 1 | eyl\n",
      "Processing Record 370 of Set 1 | henties bay\n",
      "Processing Record 371 of Set 1 | yaan\n",
      "Processing Record 372 of Set 1 | nyaunglebin\n",
      "Processing Record 373 of Set 1 | nome\n",
      "Processing Record 374 of Set 1 | shubarshi\n",
      "Processing Record 375 of Set 1 | slave lake\n",
      "Processing Record 376 of Set 1 | cayenne\n",
      "Processing Record 377 of Set 1 | saint george\n",
      "Processing Record 378 of Set 1 | port macquarie\n",
      "Processing Record 379 of Set 1 | torbay\n",
      "Processing Record 380 of Set 1 | moerai\n",
      "Processing Record 381 of Set 1 | eenhana\n",
      "Processing Record 382 of Set 1 | acapulco\n",
      "Processing Record 383 of Set 1 | aitape\n",
      "Processing Record 384 of Set 1 | balakhninskiy\n",
      "Processing Record 385 of Set 1 | hualmay\n",
      "Processing Record 386 of Set 1 | derzhavinsk\n",
      "Processing Record 387 of Set 1 | kyshtovka\n",
      "Processing Record 388 of Set 1 | dulian\n",
      "Processing Record 389 of Set 1 | komsomolskiy\n",
      "Processing Record 390 of Set 1 | aksu\n",
      "Processing Record 391 of Set 1 | mastic beach\n",
      "Processing Record 392 of Set 1 | coihaique\n",
      "Processing Record 393 of Set 1 | novyy urengoy\n",
      "Processing Record 394 of Set 1 | ban nahin\n",
      "Processing Record 395 of Set 1 | marquette\n",
      "Processing Record 396 of Set 1 | ledyard\n",
      "Processing Record 397 of Set 1 | la huacana\n",
      "Processing Record 398 of Set 1 | batagay-alyta\n",
      "Processing Record 399 of Set 1 | lorengau\n",
      "Processing Record 400 of Set 1 | belle glade\n",
      "Processing Record 401 of Set 1 | half moon bay\n",
      "Processing Record 402 of Set 1 | dzhusaly\n",
      "City not found. Skipping....\n",
      "Processing Record 403 of Set 1 | vagur\n",
      "Processing Record 404 of Set 1 | tautira\n",
      "Processing Record 405 of Set 1 | koutiala\n",
      "Processing Record 406 of Set 1 | peniche\n",
      "Processing Record 407 of Set 1 | sioux lookout\n",
      "Processing Record 408 of Set 1 | viedma\n",
      "Processing Record 409 of Set 1 | oktyabrskoye\n",
      "Processing Record 410 of Set 1 | sesheke\n",
      "Processing Record 411 of Set 1 | pisco\n",
      "Processing Record 412 of Set 1 | bocaranga\n",
      "City not found. Skipping....\n",
      "Processing Record 413 of Set 1 | silver city\n",
      "Processing Record 414 of Set 1 | vanimo\n",
      "Processing Record 415 of Set 1 | ostrovnoy\n",
      "Processing Record 416 of Set 1 | dicabisagan\n",
      "Processing Record 417 of Set 1 | naze\n",
      "Processing Record 418 of Set 1 | cravo norte\n",
      "Processing Record 419 of Set 1 | george\n",
      "Processing Record 420 of Set 1 | pacific grove\n",
      "Processing Record 421 of Set 1 | snezhnogorsk\n",
      "Processing Record 422 of Set 1 | rosetown\n",
      "Processing Record 423 of Set 1 | kieta\n",
      "Processing Record 424 of Set 1 | parkent\n",
      "Processing Record 425 of Set 1 | mandalgovi\n",
      "Processing Record 426 of Set 1 | faya\n",
      "Processing Record 427 of Set 1 | tocache\n",
      "Processing Record 428 of Set 1 | jiddah\n",
      "City not found. Skipping....\n",
      "Processing Record 429 of Set 1 | egvekinot\n",
      "Processing Record 430 of Set 1 | springdale\n",
      "Processing Record 431 of Set 1 | valparaiso\n",
      "Processing Record 432 of Set 1 | loreto\n",
      "Processing Record 433 of Set 1 | floro\n",
      "Processing Record 434 of Set 1 | maputo\n",
      "Processing Record 435 of Set 1 | fort frances\n",
      "Processing Record 436 of Set 1 | zwedru\n",
      "Processing Record 437 of Set 1 | nadym\n",
      "Processing Record 438 of Set 1 | lashio\n",
      "Processing Record 439 of Set 1 | misratah\n",
      "Processing Record 440 of Set 1 | saint-ambroise\n",
      "Processing Record 441 of Set 1 | los llanos de aridane\n",
      "Processing Record 442 of Set 1 | mount gambier\n",
      "Processing Record 443 of Set 1 | solnechnyy\n",
      "Processing Record 444 of Set 1 | redmond\n",
      "Processing Record 445 of Set 1 | san ignacio\n",
      "Processing Record 446 of Set 1 | alberton\n",
      "Processing Record 447 of Set 1 | mlowo\n",
      "Processing Record 448 of Set 1 | dingle\n",
      "Processing Record 449 of Set 1 | erenhot\n",
      "Processing Record 450 of Set 1 | lasa\n",
      "Processing Record 451 of Set 1 | kavos\n",
      "Processing Record 452 of Set 1 | arteaga\n",
      "Processing Record 453 of Set 1 | vallenar\n",
      "Processing Record 454 of Set 1 | ligatne\n",
      "Processing Record 455 of Set 1 | viligili\n",
      "City not found. Skipping....\n",
      "Processing Record 456 of Set 1 | raudeberg\n",
      "Processing Record 457 of Set 1 | karpathos\n",
      "Processing Record 458 of Set 1 | huarmey\n",
      "Processing Record 459 of Set 1 | delhi\n",
      "Processing Record 460 of Set 1 | douglas\n",
      "Processing Record 461 of Set 1 | abalak\n",
      "Processing Record 462 of Set 1 | moranbah\n",
      "Processing Record 463 of Set 1 | tombouctou\n",
      "Processing Record 464 of Set 1 | kokopo\n",
      "Processing Record 465 of Set 1 | dunedin\n",
      "Processing Record 466 of Set 1 | ritchie\n",
      "Processing Record 467 of Set 1 | mardin\n",
      "Processing Record 468 of Set 1 | bad liebenzell\n",
      "Processing Record 469 of Set 1 | hit\n",
      "Processing Record 470 of Set 1 | kudahuvadhoo\n",
      "Processing Record 471 of Set 1 | salinas\n",
      "Processing Record 472 of Set 1 | kruisfontein\n",
      "Processing Record 473 of Set 1 | corinto\n",
      "Processing Record 474 of Set 1 | meulaboh\n",
      "Processing Record 475 of Set 1 | sao joao da barra\n",
      "Processing Record 476 of Set 1 | omboue\n",
      "Processing Record 477 of Set 1 | kedrovyy\n",
      "Processing Record 478 of Set 1 | hvide sande\n",
      "Processing Record 479 of Set 1 | manzini\n",
      "Processing Record 480 of Set 1 | yar-sale\n",
      "Processing Record 481 of Set 1 | lamar\n",
      "Processing Record 482 of Set 1 | korla\n",
      "Processing Record 483 of Set 1 | sibu\n",
      "Processing Record 484 of Set 1 | la crosse\n",
      "Processing Record 485 of Set 1 | bobrovka\n",
      "Processing Record 486 of Set 1 | kalevala\n",
      "Processing Record 487 of Set 1 | cockburn town\n",
      "Processing Record 488 of Set 1 | karsava\n",
      "Processing Record 489 of Set 1 | andenes\n",
      "Processing Record 490 of Set 1 | poum\n",
      "Processing Record 491 of Set 1 | ambovombe\n",
      "Processing Record 492 of Set 1 | sitka\n",
      "Processing Record 493 of Set 1 | marcona\n",
      "City not found. Skipping....\n",
      "Processing Record 494 of Set 1 | madang\n",
      "Processing Record 495 of Set 1 | mnogovershinnyy\n",
      "Processing Record 496 of Set 1 | takaka\n",
      "Processing Record 497 of Set 1 | longyearbyen\n",
      "Processing Record 498 of Set 1 | dergachi\n",
      "Processing Record 499 of Set 1 | hilton head island\n",
      "Processing Record 500 of Set 1 | pontevedra\n",
      "Processing Record 501 of Set 1 | hanmer springs\n",
      "Processing Record 502 of Set 1 | locri\n",
      "Processing Record 503 of Set 1 | dvinskoy\n",
      "Processing Record 504 of Set 1 | berdigestyakh\n",
      "Processing Record 505 of Set 1 | doctor pedro p. pena\n",
      "City not found. Skipping....\n",
      "Processing Record 506 of Set 1 | angoram\n",
      "Processing Record 507 of Set 1 | lufilufi\n",
      "Processing Record 508 of Set 1 | nueva concepcion\n",
      "Processing Record 509 of Set 1 | port blair\n",
      "Processing Record 510 of Set 1 | lompoc\n",
      "Processing Record 511 of Set 1 | gunnedah\n",
      "Processing Record 512 of Set 1 | hobyo\n",
      "Processing Record 513 of Set 1 | sangmelima\n",
      "Processing Record 514 of Set 1 | timra\n",
      "Processing Record 515 of Set 1 | lixourion\n",
      "Processing Record 516 of Set 1 | joshimath\n",
      "Processing Record 517 of Set 1 | santa fe\n",
      "Processing Record 518 of Set 1 | road town\n",
      "Processing Record 519 of Set 1 | jambi\n",
      "Processing Record 520 of Set 1 | mapiripan\n",
      "Processing Record 521 of Set 1 | nerchinskiy zavod\n",
      "Processing Record 522 of Set 1 | najran\n",
      "Processing Record 523 of Set 1 | houma\n",
      "Processing Record 524 of Set 1 | emerald\n",
      "Processing Record 525 of Set 1 | san jose\n",
      "Processing Record 526 of Set 1 | danjiangkou\n",
      "Processing Record 527 of Set 1 | kolimvari\n",
      "City not found. Skipping....\n",
      "Processing Record 528 of Set 1 | mahebourg\n",
      "Processing Record 529 of Set 1 | imbituba\n",
      "Processing Record 530 of Set 1 | waipawa\n",
      "Processing Record 531 of Set 1 | bocaiuva\n",
      "Processing Record 532 of Set 1 | sembe\n",
      "Processing Record 533 of Set 1 | lancaster\n",
      "Processing Record 534 of Set 1 | barabinsk\n",
      "Processing Record 535 of Set 1 | saint anthony\n",
      "Processing Record 536 of Set 1 | tura\n",
      "Processing Record 537 of Set 1 | itoman\n",
      "Processing Record 538 of Set 1 | belmonte\n",
      "Processing Record 539 of Set 1 | ystad\n",
      "Processing Record 540 of Set 1 | slupsk\n",
      "Processing Record 541 of Set 1 | annonay\n",
      "Processing Record 542 of Set 1 | kamenka\n",
      "Processing Record 543 of Set 1 | gamboula\n",
      "Processing Record 544 of Set 1 | sarangani\n",
      "Processing Record 545 of Set 1 | almaznyy\n",
      "Processing Record 546 of Set 1 | alor setar\n",
      "Processing Record 547 of Set 1 | aripuana\n",
      "Processing Record 548 of Set 1 | horsham\n",
      "Processing Record 549 of Set 1 | batemans bay\n",
      "Processing Record 550 of Set 1 | brownfield\n",
      "Processing Record 551 of Set 1 | karratha\n",
      "Processing Record 552 of Set 1 | tual\n",
      "Processing Record 553 of Set 1 | mattawa\n",
      "Processing Record 554 of Set 1 | portland\n"
     ]
    },
    {
     "name": "stdout",
     "output_type": "stream",
     "text": [
      "Processing Record 555 of Set 1 | yelan\n",
      "Processing Record 556 of Set 1 | nobres\n",
      "Processing Record 557 of Set 1 | umm kaddadah\n",
      "Processing Record 558 of Set 1 | tidore\n",
      "City not found. Skipping....\n",
      "Processing Record 559 of Set 1 | oberstdorf\n",
      "Processing Record 560 of Set 1 | xiangdong\n",
      "City not found. Skipping....\n",
      "Processing Record 561 of Set 1 | meadow lake\n",
      "Processing Record 562 of Set 1 | saint pete beach\n",
      "Processing Record 563 of Set 1 | parfino\n",
      "Processing Record 564 of Set 1 | karlskrona\n",
      "Processing Record 565 of Set 1 | lodwar\n",
      "Processing Record 566 of Set 1 | ziniare\n",
      "Processing Record 567 of Set 1 | sola\n",
      "Processing Record 568 of Set 1 | dunayivtsi\n",
      "City not found. Skipping....\n",
      "Processing Record 569 of Set 1 | abu samrah\n",
      "Processing Record 570 of Set 1 | paisley\n",
      "Processing Record 571 of Set 1 | trimbak\n",
      "Processing Record 572 of Set 1 | lom sak\n",
      "Processing Record 573 of Set 1 | xixiang\n",
      "Processing Record 574 of Set 1 | yerbogachen\n",
      "Processing Record 575 of Set 1 | santo nino\n",
      "Processing Record 576 of Set 1 | piacabucu\n",
      "Processing Record 577 of Set 1 | nizhnyaya pavlovka\n",
      "City not found. Skipping....\n",
      "Processing Record 578 of Set 1 | lodja\n",
      "Processing Record 579 of Set 1 | russell\n",
      "Processing Record 580 of Set 1 | tromso\n",
      "Processing Record 581 of Set 1 | garachine\n",
      "Processing Record 582 of Set 1 | chicama\n",
      "Processing Record 583 of Set 1 | nguiu\n",
      "City not found. Skipping....\n",
      "Processing Record 584 of Set 1 | camacha\n",
      "Processing Record 585 of Set 1 | rio grande\n",
      "Processing Record 586 of Set 1 | beira\n",
      "Processing Record 587 of Set 1 | tutoia\n",
      "Processing Record 588 of Set 1 | whitianga\n",
      "Processing Record 589 of Set 1 | kiruna\n",
      "Processing Record 590 of Set 1 | mezen\n",
      "Processing Record 591 of Set 1 | urengoy\n",
      "Processing Record 592 of Set 1 | hornepayne\n",
      "Processing Record 593 of Set 1 | scottsburgh\n",
      "City not found. Skipping....\n",
      "Processing Record 594 of Set 1 | pochinki\n",
      "Processing Record 595 of Set 1 | nioro\n",
      "Processing Record 596 of Set 1 | manati\n",
      "Processing Record 597 of Set 1 | altamira\n",
      "Processing Record 598 of Set 1 | hansot\n",
      "Processing Record 599 of Set 1 | seddon\n",
      "Processing Record 600 of Set 1 | tandil\n",
      "Processing Record 601 of Set 1 | pilot butte\n",
      "Processing Record 602 of Set 1 | praia da vitoria\n",
      "Processing Record 603 of Set 1 | mahenge\n",
      "Processing Record 604 of Set 1 | santarem\n",
      "Processing Record 605 of Set 1 | fuerte olimpo\n",
      "Processing Record 606 of Set 1 | wamba\n",
      "Processing Record 607 of Set 1 | liverpool\n",
      "Processing Record 608 of Set 1 | tevaitoa\n",
      "Processing Record 609 of Set 1 | maloshuyka\n",
      "City not found. Skipping....\n",
      "Processing Record 610 of Set 1 | urfa\n",
      "City not found. Skipping....\n",
      "Processing Record 611 of Set 1 | sandwick\n",
      "Processing Record 612 of Set 1 | manokwari\n",
      "Processing Record 613 of Set 1 | zhigalovo\n",
      "Processing Record 614 of Set 1 | umzimvubu\n",
      "City not found. Skipping....\n",
      "Processing Record 615 of Set 1 | hendijan\n",
      "City not found. Skipping....\n",
      "Processing Record 616 of Set 1 | dekoa\n",
      "City not found. Skipping....\n",
      "Processing Record 617 of Set 1 | ahuimanu\n",
      "Processing Record 618 of Set 1 | bjelovar\n",
      "Processing Record 619 of Set 1 | muroto\n",
      "Processing Record 620 of Set 1 | audru\n",
      "Processing Record 621 of Set 1 | yenagoa\n",
      "Processing Record 622 of Set 1 | pont-rouge\n",
      "Processing Record 623 of Set 1 | sfantu gheorghe\n",
      "Processing Record 624 of Set 1 | obera\n",
      "Processing Record 625 of Set 1 | sur\n",
      "Processing Record 626 of Set 1 | lincoln\n",
      "Processing Record 627 of Set 1 | asau\n",
      "-----------------------------\n",
      "Data Retrieval Complete\n",
      "-----------------------------\n"
     ]
    }
   ],
   "source": [
    "print(f\"Beginning Data Retrieval\")\n",
    "print(f\"-----------------------------\")\n",
    "\n",
    "city_counter = 1\n",
    "\n",
    "for index, row in weather_data.iterrows():\n",
    "    url = \"http://api.openweathermap.org/data/2.5/weather?\"\n",
    "    query_url = f\"{url}appid={weather_api_key}&q=\"\n",
    "    city = row['City']\n",
    "    response = requests.get(query_url + city).json()\n",
    "  \n",
    "    print(f\"Processing Record {city_counter} of Set 1 | {city}\")\n",
    "    city_counter += 1    \n",
    "    \n",
    "    try:\n",
    "        weather_data.loc[index, \"Latitude\"] = response['coord']['lat']\n",
    "        weather_data.loc[index, \"Longitude\"] = response['coord']['lon']\n",
    "        weather_data.loc[index, \"Max Temperature\"] = response['main']['temp_max']\n",
    "        weather_data.loc[index, \"Humidity\"] = response['main']['humidity']\n",
    "        weather_data.loc[index, \"Cloudiness\"] = response['clouds']['all']\n",
    "        weather_data.loc[index, \"Wind Speed\"] = response['wind']['speed']\n",
    "        weather_data.loc[index, \"Country\"] = response['sys']['country']\n",
    "        weather_data.loc[index, \"Date\"] = response['dt']\n",
    "                \n",
    "    except (KeyError, IndexError): \n",
    "        print(\"City not found. Skipping....\")\n",
    "        \n",
    "print(f\"-----------------------------\")\n",
    "print(f\"Data Retrieval Complete\")      \n",
    "print(f\"-----------------------------\")"
   ]
  },
  {
   "cell_type": "code",
   "execution_count": null,
   "metadata": {
    "scrolled": false
   },
   "outputs": [],
   "source": [
    "\n",
    "        "
   ]
  },
  {
   "cell_type": "markdown",
   "metadata": {},
   "source": [
    "### Convert Raw Data to DataFrame\n",
    "* Export the city data into a .csv.\n",
    "* Display the DataFrame"
   ]
  },
  {
   "cell_type": "code",
   "execution_count": 7,
   "metadata": {
    "scrolled": true
   },
   "outputs": [],
   "source": [
    "compression_opts = dict(method='zip',\n",
    "                        archive_name='my_cities.csv')  \n",
    "weather_data.to_csv('my_cities.zip', index=False,\n",
    "          compression=compression_opts)  "
   ]
  },
  {
   "cell_type": "code",
   "execution_count": 8,
   "metadata": {
    "scrolled": true
   },
   "outputs": [
    {
     "data": {
      "text/plain": [
       "City               627\n",
       "Latitude           627\n",
       "Longitude          627\n",
       "Max Temperature    627\n",
       "Humidity           627\n",
       "Cloudiness         627\n",
       "Wind Speed         627\n",
       "Country            627\n",
       "Date               627\n",
       "dtype: int64"
      ]
     },
     "execution_count": 8,
     "metadata": {},
     "output_type": "execute_result"
    }
   ],
   "source": [
    "weather_data.count()"
   ]
  },
  {
   "cell_type": "code",
   "execution_count": 9,
   "metadata": {
    "scrolled": true
   },
   "outputs": [
    {
     "data": {
      "text/html": [
       "<div>\n",
       "<style scoped>\n",
       "    .dataframe tbody tr th:only-of-type {\n",
       "        vertical-align: middle;\n",
       "    }\n",
       "\n",
       "    .dataframe tbody tr th {\n",
       "        vertical-align: top;\n",
       "    }\n",
       "\n",
       "    .dataframe thead th {\n",
       "        text-align: right;\n",
       "    }\n",
       "</style>\n",
       "<table border=\"1\" class=\"dataframe\">\n",
       "  <thead>\n",
       "    <tr style=\"text-align: right;\">\n",
       "      <th></th>\n",
       "      <th>City</th>\n",
       "      <th>Latitude</th>\n",
       "      <th>Longitude</th>\n",
       "      <th>Max Temperature</th>\n",
       "      <th>Humidity</th>\n",
       "      <th>Cloudiness</th>\n",
       "      <th>Wind Speed</th>\n",
       "      <th>Country</th>\n",
       "      <th>Date</th>\n",
       "    </tr>\n",
       "  </thead>\n",
       "  <tbody>\n",
       "    <tr>\n",
       "      <th>0</th>\n",
       "      <td>norman wells</td>\n",
       "      <td>65.28</td>\n",
       "      <td>-126.83</td>\n",
       "      <td>283.15</td>\n",
       "      <td>100</td>\n",
       "      <td>75</td>\n",
       "      <td>1.5</td>\n",
       "      <td>CA</td>\n",
       "      <td>1595240541</td>\n",
       "    </tr>\n",
       "    <tr>\n",
       "      <th>1</th>\n",
       "      <td>ushuaia</td>\n",
       "      <td>-54.8</td>\n",
       "      <td>-68.3</td>\n",
       "      <td>269.15</td>\n",
       "      <td>92</td>\n",
       "      <td>0</td>\n",
       "      <td>2.6</td>\n",
       "      <td>AR</td>\n",
       "      <td>1595240526</td>\n",
       "    </tr>\n",
       "    <tr>\n",
       "      <th>2</th>\n",
       "      <td>haines junction</td>\n",
       "      <td>60.75</td>\n",
       "      <td>-137.51</td>\n",
       "      <td>283.84</td>\n",
       "      <td>85</td>\n",
       "      <td>99</td>\n",
       "      <td>1.33</td>\n",
       "      <td>CA</td>\n",
       "      <td>1595240610</td>\n",
       "    </tr>\n",
       "    <tr>\n",
       "      <th>3</th>\n",
       "      <td>rafaela</td>\n",
       "      <td>-31.25</td>\n",
       "      <td>-61.49</td>\n",
       "      <td>285.37</td>\n",
       "      <td>80</td>\n",
       "      <td>28</td>\n",
       "      <td>2.68</td>\n",
       "      <td>AR</td>\n",
       "      <td>1595240949</td>\n",
       "    </tr>\n",
       "    <tr>\n",
       "      <th>4</th>\n",
       "      <td>eureka</td>\n",
       "      <td>40.8</td>\n",
       "      <td>-124.16</td>\n",
       "      <td>285.37</td>\n",
       "      <td>100</td>\n",
       "      <td>11</td>\n",
       "      <td>0.55</td>\n",
       "      <td>US</td>\n",
       "      <td>1595240949</td>\n",
       "    </tr>\n",
       "    <tr>\n",
       "      <th>...</th>\n",
       "      <td>...</td>\n",
       "      <td>...</td>\n",
       "      <td>...</td>\n",
       "      <td>...</td>\n",
       "      <td>...</td>\n",
       "      <td>...</td>\n",
       "      <td>...</td>\n",
       "      <td>...</td>\n",
       "      <td>...</td>\n",
       "    </tr>\n",
       "    <tr>\n",
       "      <th>622</th>\n",
       "      <td>sfantu gheorghe</td>\n",
       "      <td>45.87</td>\n",
       "      <td>25.78</td>\n",
       "      <td>293.71</td>\n",
       "      <td>86</td>\n",
       "      <td>76</td>\n",
       "      <td>4.04</td>\n",
       "      <td>RO</td>\n",
       "      <td>1595241067</td>\n",
       "    </tr>\n",
       "    <tr>\n",
       "      <th>623</th>\n",
       "      <td>obera</td>\n",
       "      <td>-27.49</td>\n",
       "      <td>-55.12</td>\n",
       "      <td>290.89</td>\n",
       "      <td>79</td>\n",
       "      <td>3</td>\n",
       "      <td>2.69</td>\n",
       "      <td>AR</td>\n",
       "      <td>1595241067</td>\n",
       "    </tr>\n",
       "    <tr>\n",
       "      <th>624</th>\n",
       "      <td>sur</td>\n",
       "      <td>22.57</td>\n",
       "      <td>59.53</td>\n",
       "      <td>306.11</td>\n",
       "      <td>58</td>\n",
       "      <td>42</td>\n",
       "      <td>2.49</td>\n",
       "      <td>OM</td>\n",
       "      <td>1595241067</td>\n",
       "    </tr>\n",
       "    <tr>\n",
       "      <th>625</th>\n",
       "      <td>lincoln</td>\n",
       "      <td>40.8</td>\n",
       "      <td>-96.67</td>\n",
       "      <td>294.26</td>\n",
       "      <td>88</td>\n",
       "      <td>90</td>\n",
       "      <td>2.6</td>\n",
       "      <td>US</td>\n",
       "      <td>1595241067</td>\n",
       "    </tr>\n",
       "    <tr>\n",
       "      <th>626</th>\n",
       "      <td>asau</td>\n",
       "      <td>46.43</td>\n",
       "      <td>26.4</td>\n",
       "      <td>291.15</td>\n",
       "      <td>93</td>\n",
       "      <td>75</td>\n",
       "      <td>5.1</td>\n",
       "      <td>RO</td>\n",
       "      <td>1595241068</td>\n",
       "    </tr>\n",
       "  </tbody>\n",
       "</table>\n",
       "<p>627 rows × 9 columns</p>\n",
       "</div>"
      ],
      "text/plain": [
       "                City Latitude Longitude Max Temperature Humidity Cloudiness  \\\n",
       "0       norman wells    65.28   -126.83          283.15      100         75   \n",
       "1            ushuaia    -54.8     -68.3          269.15       92          0   \n",
       "2    haines junction    60.75   -137.51          283.84       85         99   \n",
       "3            rafaela   -31.25    -61.49          285.37       80         28   \n",
       "4             eureka     40.8   -124.16          285.37      100         11   \n",
       "..               ...      ...       ...             ...      ...        ...   \n",
       "622  sfantu gheorghe    45.87     25.78          293.71       86         76   \n",
       "623            obera   -27.49    -55.12          290.89       79          3   \n",
       "624              sur    22.57     59.53          306.11       58         42   \n",
       "625          lincoln     40.8    -96.67          294.26       88         90   \n",
       "626             asau    46.43      26.4          291.15       93         75   \n",
       "\n",
       "    Wind Speed Country        Date  \n",
       "0          1.5      CA  1595240541  \n",
       "1          2.6      AR  1595240526  \n",
       "2         1.33      CA  1595240610  \n",
       "3         2.68      AR  1595240949  \n",
       "4         0.55      US  1595240949  \n",
       "..         ...     ...         ...  \n",
       "622       4.04      RO  1595241067  \n",
       "623       2.69      AR  1595241067  \n",
       "624       2.49      OM  1595241067  \n",
       "625        2.6      US  1595241067  \n",
       "626        5.1      RO  1595241068  \n",
       "\n",
       "[627 rows x 9 columns]"
      ]
     },
     "execution_count": 9,
     "metadata": {},
     "output_type": "execute_result"
    }
   ],
   "source": [
    "weather_data"
   ]
  },
  {
   "cell_type": "markdown",
   "metadata": {},
   "source": [
    "## Inspect the data and remove the cities where the humidity > 100%.\n",
    "----\n",
    "Skip this step if there are no cities that have humidity > 100%. "
   ]
  },
  {
   "cell_type": "code",
   "execution_count": null,
   "metadata": {
    "scrolled": false
   },
   "outputs": [],
   "source": [
    "# weather_data_humidity = weather_data.loc[weather_data[\"Humidity\"] > 100]\n",
    "# weather_data_humidity"
   ]
  },
  {
   "cell_type": "code",
   "execution_count": null,
   "metadata": {
    "scrolled": true
   },
   "outputs": [],
   "source": [
    "#  Get the indices of cities that have humidity over 100%.\n"
   ]
  },
  {
   "cell_type": "code",
   "execution_count": null,
   "metadata": {
    "scrolled": true
   },
   "outputs": [],
   "source": [
    "# Make a new DataFrame equal to the city data to drop all humidity outliers by index.\n",
    "# Passing \"inplace=False\" will make a copy of the city_data DataFrame, which we call \"clean_city_data\".\n"
   ]
  },
  {
   "cell_type": "code",
   "execution_count": null,
   "metadata": {
    "scrolled": true
   },
   "outputs": [],
   "source": [
    "# Extract relevant fields from the data frame\n",
    "\n",
    "\n",
    "# Export the City_Data into a csv\n",
    "#already exported above"
   ]
  },
  {
   "cell_type": "markdown",
   "metadata": {},
   "source": [
    "## Plotting the Data\n",
    "* Use proper labeling of the plots using plot titles (including date of analysis) and axes labels.\n",
    "* Save the plotted figures as .pngs."
   ]
  },
  {
   "cell_type": "code",
   "execution_count": 11,
   "metadata": {
    "scrolled": true
   },
   "outputs": [
    {
     "data": {
      "text/html": [
       "<div>\n",
       "<style scoped>\n",
       "    .dataframe tbody tr th:only-of-type {\n",
       "        vertical-align: middle;\n",
       "    }\n",
       "\n",
       "    .dataframe tbody tr th {\n",
       "        vertical-align: top;\n",
       "    }\n",
       "\n",
       "    .dataframe thead th {\n",
       "        text-align: right;\n",
       "    }\n",
       "</style>\n",
       "<table border=\"1\" class=\"dataframe\">\n",
       "  <thead>\n",
       "    <tr style=\"text-align: right;\">\n",
       "      <th></th>\n",
       "      <th>City</th>\n",
       "      <th>Latitude</th>\n",
       "      <th>Longitude</th>\n",
       "      <th>Max Temperature</th>\n",
       "      <th>Humidity</th>\n",
       "      <th>Cloudiness</th>\n",
       "      <th>Wind Speed</th>\n",
       "      <th>Country</th>\n",
       "      <th>Date</th>\n",
       "    </tr>\n",
       "  </thead>\n",
       "  <tbody>\n",
       "    <tr>\n",
       "      <th>0</th>\n",
       "      <td>norman wells</td>\n",
       "      <td>65.28</td>\n",
       "      <td>-126.83</td>\n",
       "      <td>283.15</td>\n",
       "      <td>100</td>\n",
       "      <td>75</td>\n",
       "      <td>1.5</td>\n",
       "      <td>CA</td>\n",
       "      <td>1595240541</td>\n",
       "    </tr>\n",
       "    <tr>\n",
       "      <th>1</th>\n",
       "      <td>ushuaia</td>\n",
       "      <td>-54.8</td>\n",
       "      <td>-68.3</td>\n",
       "      <td>269.15</td>\n",
       "      <td>92</td>\n",
       "      <td>0</td>\n",
       "      <td>2.6</td>\n",
       "      <td>AR</td>\n",
       "      <td>1595240526</td>\n",
       "    </tr>\n",
       "    <tr>\n",
       "      <th>2</th>\n",
       "      <td>haines junction</td>\n",
       "      <td>60.75</td>\n",
       "      <td>-137.51</td>\n",
       "      <td>283.84</td>\n",
       "      <td>85</td>\n",
       "      <td>99</td>\n",
       "      <td>1.33</td>\n",
       "      <td>CA</td>\n",
       "      <td>1595240610</td>\n",
       "    </tr>\n",
       "    <tr>\n",
       "      <th>3</th>\n",
       "      <td>rafaela</td>\n",
       "      <td>-31.25</td>\n",
       "      <td>-61.49</td>\n",
       "      <td>285.37</td>\n",
       "      <td>80</td>\n",
       "      <td>28</td>\n",
       "      <td>2.68</td>\n",
       "      <td>AR</td>\n",
       "      <td>1595240949</td>\n",
       "    </tr>\n",
       "    <tr>\n",
       "      <th>4</th>\n",
       "      <td>eureka</td>\n",
       "      <td>40.8</td>\n",
       "      <td>-124.16</td>\n",
       "      <td>285.37</td>\n",
       "      <td>100</td>\n",
       "      <td>11</td>\n",
       "      <td>0.55</td>\n",
       "      <td>US</td>\n",
       "      <td>1595240949</td>\n",
       "    </tr>\n",
       "  </tbody>\n",
       "</table>\n",
       "</div>"
      ],
      "text/plain": [
       "              City Latitude Longitude Max Temperature Humidity Cloudiness  \\\n",
       "0     norman wells    65.28   -126.83          283.15      100         75   \n",
       "1          ushuaia    -54.8     -68.3          269.15       92          0   \n",
       "2  haines junction    60.75   -137.51          283.84       85         99   \n",
       "3          rafaela   -31.25    -61.49          285.37       80         28   \n",
       "4           eureka     40.8   -124.16          285.37      100         11   \n",
       "\n",
       "  Wind Speed Country        Date  \n",
       "0        1.5      CA  1595240541  \n",
       "1        2.6      AR  1595240526  \n",
       "2       1.33      CA  1595240610  \n",
       "3       2.68      AR  1595240949  \n",
       "4       0.55      US  1595240949  "
      ]
     },
     "execution_count": 11,
     "metadata": {},
     "output_type": "execute_result"
    }
   ],
   "source": [
    "weather_data.head()"
   ]
  },
  {
   "cell_type": "code",
   "execution_count": 19,
   "metadata": {},
   "outputs": [
    {
     "data": {
      "text/plain": [
       "City               object\n",
       "Latitude           object\n",
       "Longitude          object\n",
       "Max Temperature    object\n",
       "Humidity           object\n",
       "Cloudiness         object\n",
       "Wind Speed         object\n",
       "Country            object\n",
       "Date               object\n",
       "dtype: object"
      ]
     },
     "execution_count": 19,
     "metadata": {},
     "output_type": "execute_result"
    }
   ],
   "source": [
    "weather_data.dtypes"
   ]
  },
  {
   "cell_type": "code",
   "execution_count": 26,
   "metadata": {},
   "outputs": [],
   "source": [
    "weather_data[\"Latitude\"] = pd.to_numeric(weather_data[\"Latitude\"], errors='coerce')\n",
    "weather_data[\"Max Temperature\"] = pd.to_numeric(weather_data[\"Max Temperature\"], errors='coerce')\n",
    "weather_data[\"Humidity\"] = pd.to_numeric(weather_data[\"Humidity\"], errors='coerce')\n",
    "weather_data[\"Cloudiness\"] = pd.to_numeric(weather_data[\"Cloudiness\"], errors='coerce')\n",
    "weather_data[\"Wind Speed\"] = pd.to_numeric(weather_data[\"Wind Speed\"], errors='coerce')"
   ]
  },
  {
   "cell_type": "markdown",
   "metadata": {},
   "source": [
    "## Latitude vs. Temperature Plot"
   ]
  },
  {
   "cell_type": "code",
   "execution_count": 38,
   "metadata": {
    "scrolled": true
   },
   "outputs": [
    {
     "data": {
      "image/png": "[encoded data removed]",
      "text/plain": [
       "<Figure size 432x288 with 1 Axes>"
      ]
     },
     "metadata": {
      "needs_background": "light"
     },
     "output_type": "display_data"
    }
   ],
   "source": [
    "scatter_one = plt.figure()\n",
    "x_values = weather_data['Latitude']\n",
    "y_values = weather_data['Max Temperature']\n",
    "plt.title = (\"City Latitude vs Max Temperature (7/20/2020)\")\n",
    "plt.scatter(x_values,y_values)\n",
    "plt.xlabel('Latitude')\n",
    "plt.ylabel('Max Temperature')\n",
    "plt.show()"
   ]
  },
  {
   "cell_type": "markdown",
   "metadata": {},
   "source": [
    "## Latitude vs. Humidity Plot"
   ]
  },
  {
   "cell_type": "code",
   "execution_count": 28,
   "metadata": {
    "scrolled": true
   },
   "outputs": [
    {
     "data": {
      "image/png": "[encoded data removed]",
      "text/plain": [
       "<Figure size 432x288 with 1 Axes>"
      ]
     },
     "metadata": {
      "needs_background": "light"
     },
     "output_type": "display_data"
    }
   ],
   "source": [
    "scatter_two = plt.figure()\n",
    "x_values = weather_data['Latitude']\n",
    "y_values = weather_data['Humidity']\n",
    "plt.scatter(x_values,y_values)\n",
    "plt.title = (\"City Latitude vs Humidity (7/20/2020)\")\n",
    "plt.xlabel('Latitude')\n",
    "plt.ylabel('Humidity')\n",
    "plt.show()"
   ]
  },
  {
   "cell_type": "markdown",
   "metadata": {},
   "source": [
    "## Latitude vs. Cloudiness Plot"
   ]
  },
  {
   "cell_type": "code",
   "execution_count": 29,
   "metadata": {
    "scrolled": true
   },
   "outputs": [
    {
     "data": {
      "image/png": "[encoded data removed]",
      "text/plain": [
       "<Figure size 432x288 with 1 Axes>"
      ]
     },
     "metadata": {
      "needs_background": "light"
     },
     "output_type": "display_data"
    }
   ],
   "source": [
    "scatter_three = plt.figure()\n",
    "x_values = weather_data['Latitude']\n",
    "y_values = weather_data['Cloudiness']\n",
    "plt.scatter(x_values,y_values)\n",
    "plt.title = (\"City Latitude vs Cloudiness (7/20/2020)\")\n",
    "plt.xlabel('Latitude')\n",
    "plt.ylabel('Cloudiness')\n",
    "plt.show()"
   ]
  },
  {
   "cell_type": "markdown",
   "metadata": {},
   "source": [
    "## Latitude vs. Wind Speed Plot"
   ]
  },
  {
   "cell_type": "code",
   "execution_count": 30,
   "metadata": {
    "scrolled": true
   },
   "outputs": [
    {
     "data": {
      "image/png": "[encoded data removed]",
      "text/plain": [
       "<Figure size 432x288 with 1 Axes>"
      ]
     },
     "metadata": {
      "needs_background": "light"
     },
     "output_type": "display_data"
    }
   ],
   "source": [
    "scatter_four = plt.figure()\n",
    "x_values = weather_data['Latitude']\n",
    "y_values = weather_data['Wind Speed']\n",
    "plt.scatter(x_values,y_values)\n",
    "plt.title = (\"City Latitude vs Wind Speed (7/20/2020)\")\n",
    "plt.xlabel('Latitude')\n",
    "plt.ylabel('Wind Speed')\n",
    "plt.show()"
   ]
  },
  {
   "cell_type": "markdown",
   "metadata": {},
   "source": [
    "## Linear Regression"
   ]
  },
  {
   "cell_type": "code",
   "execution_count": null,
   "metadata": {
    "scrolled": true
   },
   "outputs": [],
   "source": [
    "# OPTIONAL: Create a function to create Linear Regression plots"
   ]
  },
  {
   "cell_type": "code",
   "execution_count": null,
   "metadata": {
    "scrolled": true
   },
   "outputs": [],
   "source": [
    "# Create Northern and Southern Hemisphere DataFrames"
   ]
  },
  {
   "cell_type": "markdown",
   "metadata": {},
   "source": [
    "####  Northern Hemisphere - Max Temp vs. Latitude Linear Regression"
   ]
  },
  {
   "cell_type": "code",
   "execution_count": null,
   "metadata": {
    "scrolled": true
   },
   "outputs": [],
   "source": []
  },
  {
   "cell_type": "markdown",
   "metadata": {},
   "source": [
    "####  Southern Hemisphere - Max Temp vs. Latitude Linear Regression"
   ]
  },
  {
   "cell_type": "code",
   "execution_count": null,
   "metadata": {
    "scrolled": true
   },
   "outputs": [],
   "source": []
  },
  {
   "cell_type": "markdown",
   "metadata": {},
   "source": [
    "####  Northern Hemisphere - Humidity (%) vs. Latitude Linear Regression"
   ]
  },
  {
   "cell_type": "code",
   "execution_count": null,
   "metadata": {
    "scrolled": true
   },
   "outputs": [],
   "source": []
  },
  {
   "cell_type": "markdown",
   "metadata": {},
   "source": [
    "####  Southern Hemisphere - Humidity (%) vs. Latitude Linear Regression"
   ]
  },
  {
   "cell_type": "code",
   "execution_count": null,
   "metadata": {
    "scrolled": true
   },
   "outputs": [],
   "source": []
  },
  {
   "cell_type": "markdown",
   "metadata": {},
   "source": [
    "####  Northern Hemisphere - Cloudiness (%) vs. Latitude Linear Regression"
   ]
  },
  {
   "cell_type": "code",
   "execution_count": null,
   "metadata": {
    "scrolled": true
   },
   "outputs": [],
   "source": []
  },
  {
   "cell_type": "markdown",
   "metadata": {},
   "source": [
    "####  Southern Hemisphere - Cloudiness (%) vs. Latitude Linear Regression"
   ]
  },
  {
   "cell_type": "code",
   "execution_count": null,
   "metadata": {
    "scrolled": true
   },
   "outputs": [],
   "source": []
  },
  {
   "cell_type": "markdown",
   "metadata": {},
   "source": [
    "####  Northern Hemisphere - Wind Speed (mph) vs. Latitude Linear Regression"
   ]
  },
  {
   "cell_type": "code",
   "execution_count": null,
   "metadata": {
    "scrolled": true
   },
   "outputs": [],
   "source": []
  },
  {
   "cell_type": "markdown",
   "metadata": {},
   "source": [
    "####  Southern Hemisphere - Wind Speed (mph) vs. Latitude Linear Regression"
   ]
  },
  {
   "cell_type": "code",
   "execution_count": null,
   "metadata": {
    "scrolled": true
   },
   "outputs": [],
   "source": []
  },
  {
   "cell_type": "code",
   "execution_count": null,
   "metadata": {
    "scrolled": true
   },
   "outputs": [],
   "source": []
  }
 ],
 "metadata": {
  "anaconda-cloud": {},
  "kernel_info": {
   "name": "python3"
  },
  "kernelspec": {
   "display_name": "Python 3",
   "language": "python",
   "name": "python3"
  },
  "language_info": {
   "codemirror_mode": {
    "name": "ipython",
    "version": 3
   },
   "file_extension": ".py",
   "mimetype": "text/x-python",
   "name": "python",
   "nbconvert_exporter": "python",
   "pygments_lexer": "ipython3",
   "version": "3.6.10"
  },
  "latex_envs": {
   "LaTeX_envs_menu_present": true,
   "autoclose": false,
   "autocomplete": true,
   "bibliofile": "biblio.bib",
   "cite_by": "apalike",
   "current_citInitial": 1,
   "eqLabelWithNumbers": true,
   "eqNumInitial": 1,
   "hotkeys": {
    "equation": "Ctrl-E",
    "itemize": "Ctrl-I"
   },
   "labels_anchors": false,
   "latex_user_defs": false,
   "report_style_numbering": false,
   "user_envs_cfg": false
  },
  "nteract": {
   "version": "0.12.3"
  }
 },
 "nbformat": 4,
 "nbformat_minor": 2
}
